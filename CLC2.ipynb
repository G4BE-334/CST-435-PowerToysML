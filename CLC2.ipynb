{
 "cells": [
  {
   "cell_type": "markdown",
   "metadata": {},
   "source": [
    "### Loading the dataset"
   ]
  },
  {
   "cell_type": "code",
   "execution_count": 70,
   "metadata": {},
   "outputs": [
    {
     "name": "stdout",
     "output_type": "stream",
     "text": [
      "6301\n"
     ]
    }
   ],
   "source": [
    "import tensorflow as tf\n",
    "import igraph as ig\n",
    "import pandas as pd\n",
    "import networkx as nx\n",
    "import matplotlib.pyplot as plt\n",
    "\n",
    "# Assuming your JSON file is named \"data.json\"\n",
    "df = pd.read_json('PowerToys.json')\n",
    "\n",
    "print(df.columns.__len__())"
   ]
  },
  {
   "cell_type": "markdown",
   "metadata": {},
   "source": [
    "### Preparing the dataset\n",
    "\n",
    "Here we want to remove the pull requests that have no comments, since these pull requests are useless for our purpose and remove the pull requests where the last comment is a bot. The whole purpose of our machine learning is to try to predict the last commentor on a pull request, having that on our dataset would be intentionally keeping an outliar, which is a bad decision"
   ]
  },
  {
   "cell_type": "code",
   "execution_count": 71,
   "metadata": {},
   "outputs": [
    {
     "name": "stdout",
     "output_type": "stream",
     "text": [
      "5018\n"
     ]
    }
   ],
   "source": [
    "# Iterate over rows and access the \"num_comments\" column\n",
    "for index, row in df.items():\n",
    "    if row[\"comments\"]:\n",
    "        last_comment_key = str(len(row[\"comments\"]) - 1) \n",
    "        if (row[\"comments\"][last_comment_key][\"userlogin\"] == \"msftbot[bot]\"):\n",
    "            df.pop(index)\n",
    "    else:\n",
    "        df.pop(index)\n",
    "    \n",
    "print(df.columns.__len__())"
   ]
  },
  {
   "cell_type": "code",
   "execution_count": null,
   "metadata": {},
   "outputs": [],
   "source": []
  }
 ],
 "metadata": {
  "kernelspec": {
   "display_name": "Python 3",
   "language": "python",
   "name": "python3"
  },
  "language_info": {
   "codemirror_mode": {
    "name": "ipython",
    "version": 3
   },
   "file_extension": ".py",
   "mimetype": "text/x-python",
   "name": "python",
   "nbconvert_exporter": "python",
   "pygments_lexer": "ipython3",
   "version": "3.11.6"
  }
 },
 "nbformat": 4,
 "nbformat_minor": 2
}
